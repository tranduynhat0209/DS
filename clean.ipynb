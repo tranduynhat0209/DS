{
 "cells": [
  {
   "cell_type": "code",
   "execution_count": 81,
   "metadata": {},
   "outputs": [
    {
     "name": "stderr",
     "output_type": "stream",
     "text": [
      "C:\\Users\\congs\\AppData\\Local\\Temp\\ipykernel_6332\\784337151.py:25: SettingWithCopyWarning: \n",
      "A value is trying to be set on a copy of a slice from a DataFrame\n",
      "\n",
      "See the caveats in the documentation: https://pandas.pydata.org/pandas-docs/stable/user_guide/indexing.html#returning-a-view-versus-a-copy\n",
      "  attr_df['Lot'][index] = int(temp_num)\n",
      "C:\\Users\\congs\\AppData\\Local\\Temp\\ipykernel_6332\\784337151.py:27: SettingWithCopyWarning: \n",
      "A value is trying to be set on a copy of a slice from a DataFrame\n",
      "\n",
      "See the caveats in the documentation: https://pandas.pydata.org/pandas-docs/stable/user_guide/indexing.html#returning-a-view-versus-a-copy\n",
      "  attr_df['Lot'][index] = round(temp_num * ACRES_TO_SQFT)\n",
      "C:\\Users\\congs\\AppData\\Local\\Temp\\ipykernel_6332\\784337151.py:38: SettingWithCopyWarning: \n",
      "A value is trying to be set on a copy of a slice from a DataFrame\n",
      "\n",
      "See the caveats in the documentation: https://pandas.pydata.org/pandas-docs/stable/user_guide/indexing.html#returning-a-view-versus-a-copy\n",
      "  attr_df['Lot'][index] = avg_num\n"
     ]
    }
   ],
   "source": [
    "### Task 1: bảng attributes\n",
    "import pandas as pd\n",
    "\n",
    " \n",
    "# creating a data frame\n",
    "attr_df = pd.read_csv(\"data/attributes.csv\", index_col=0)\n",
    "\n",
    "# remove \"Built in \" in Year Built column\n",
    "attr_df['Year Built'].replace({'Built in ': ''}, regex=True, inplace=True)\n",
    "\n",
    "ACRES_TO_SQFT = 43560\n",
    "num = len(attr_df['Lot'])\n",
    "avg_num = 0.0\n",
    "temp_num = 0\n",
    "null_indexes = []\n",
    "temp_str = 'sqft'\n",
    "\n",
    "# convert all lot to number of square feet and calculate average\n",
    "for index in range(num):\n",
    "    temp_str = attr_df['Lot'][index].__str__()\n",
    "    if(temp_str != 'nan' and temp_str != \"No data\" and temp_str != \"Lot:\"):\n",
    "        temp_num = float(temp_str.split(\" \")[0].replace(\",\", \"\"))\n",
    "        temp_str = temp_str.split(\" \")[1]\n",
    "        if(temp_str.lower() == 'sqft'):\n",
    "            attr_df['Lot'][index] = int(temp_num)\n",
    "        elif(temp_str.lower() == 'acres'):\n",
    "            attr_df['Lot'][index] = round(temp_num * ACRES_TO_SQFT)\n",
    "        else:\n",
    "            attr_df['Lot'][index] = 'invalid'\n",
    "        avg_num += attr_df['Lot'][index]\n",
    "    else:\n",
    "        null_indexes.append(index)\n",
    "avg_num /= (num - len(null_indexes))\n",
    "avg_num = round(avg_num)\n",
    "\n",
    "# fill all nan values of Lot column with average value\n",
    "for index in null_indexes:\n",
    "    attr_df['Lot'][index] = avg_num\n",
    "\n",
    "# remove $ and price/sqft from column Price/sqft\n",
    "attr_df['Price/sqft'].replace({'\\$': '', ' price/sqft': ''}, regex=True, inplace=True)\n",
    "\n",
    "# remove  buyers agency fee from column Buyers Agency Fee\n",
    "attr_df['Buyers Agency Fee'].replace({' buyers agency fee': ''}, regex=True, inplace=True)\n",
    "\n",
    "attr_df.to_csv(\"data-cleaned-v1/attributes.csv\")\n"
   ]
  },
  {
   "cell_type": "code",
   "execution_count": 6,
   "metadata": {},
   "outputs": [],
   "source": [
    "### Task 2: bảng interactions\n",
    "import pandas as pd\n",
    "\n",
    "inter_df = pd.read_csv(\"data/interactions.csv\", index_col=0)\n",
    "basic_df = pd.read_csv(\"data/basic.csv\", index_col=0)\n",
    "\n",
    "# Thêm trường zpid\n",
    "inter_df = inter_df.join(basic_df['zpid'])\n",
    "\n",
    "inter_df.to_csv(\"data-cleaned-v1/interactions.csv\")"
   ]
  },
  {
   "cell_type": "code",
   "execution_count": 7,
   "metadata": {},
   "outputs": [],
   "source": [
    "### Task 3: bảng basic\n",
    "import pandas as pd\n",
    "\n",
    "basic_df = pd.read_csv(\"data/basic.csv\", index_col=0)\n",
    "\n",
    "# bỏ $ ở trường price\n",
    "basic_df['price'].replace({'\\$': ''}, regex=True, inplace=True)\n",
    "\n",
    "basic_df.to_csv(\"data-cleaned-v1/basic.csv\")"
   ]
  }
 ],
 "metadata": {
  "interpreter": {
   "hash": "369f2c481f4da34e4445cda3fffd2e751bd1c4d706f27375911949ba6bb62e1c"
  },
  "kernelspec": {
   "display_name": "Python 3.10.4 64-bit",
   "language": "python",
   "name": "python3"
  },
  "language_info": {
   "codemirror_mode": {
    "name": "ipython",
    "version": 3
   },
   "file_extension": ".py",
   "mimetype": "text/x-python",
   "name": "python",
   "nbconvert_exporter": "python",
   "pygments_lexer": "ipython3",
   "version": "3.10.4"
  },
  "orig_nbformat": 4,
  "vscode": {
   "interpreter": {
    "hash": "916dbcbb3f70747c44a77c7bcd40155683ae19c65e1c03b4aa3499c5328201f1"
   }
  }
 },
 "nbformat": 4,
 "nbformat_minor": 2
}
